{
 "cells": [
  {
   "cell_type": "code",
   "execution_count": 1,
   "metadata": {},
   "outputs": [],
   "source": [
    "import torch\n",
    "import torch.nn as nn\n",
    "import torch.nn.functional as F\n",
    "from torch.autograd import Variable\n",
    "\n",
    "import numpy as np\n",
    "import pandas as pd\n",
    "import matplotlib.pyplot as plt\n",
    "%matplotlib inline\n",
    "\n",
    "import random\n",
    "from collections import Counter"
   ]
  },
  {
   "cell_type": "code",
   "execution_count": 2,
   "metadata": {},
   "outputs": [],
   "source": [
    "data_path = 'e:/aihub/2_대화체_200226.xlsx'\n",
    "df = pd.read_excel(data_path)"
   ]
  },
  {
   "cell_type": "code",
   "execution_count": 3,
   "metadata": {},
   "outputs": [],
   "source": [
    "# Data를 list로 저장\n",
    "SRC = df.원문.tolist()\n",
    "TRG = df.번역문.apply(lambda x: x.lower()).tolist()"
   ]
  },
  {
   "cell_type": "code",
   "execution_count": 4,
   "metadata": {},
   "outputs": [],
   "source": [
    "UNK_TOKEN = '<unk>'\n",
    "PAD_TOKEN = '<pad>'\n",
    "BOS_TOKEN = '<bos>'\n",
    "EOS_TOKEN = '<eos>'\n",
    "\n",
    "BATCH_SIZE = 64"
   ]
  },
  {
   "cell_type": "markdown",
   "metadata": {},
   "source": [
    "- 단어사전을 구축한 다음에\n",
    "- 풀고자하는 문장들을 해당 field에서 discrete token number로 mapping하지만\n",
    "- 지금은 단지 base-line을 구축하기 위해 아래와 같이 간단하게 vocab을 구성하였다."
   ]
  },
  {
   "cell_type": "code",
   "execution_count": 5,
   "metadata": {},
   "outputs": [],
   "source": [
    "# spacing tokenizing\n",
    "SRC_VOCAB = list(Counter([i for src in SRC for i in src.split(' ')]).keys())\n",
    "TRG_VOCAB = list(Counter([i for trg in TRG for i in trg.split(' ')]).keys())"
   ]
  },
  {
   "cell_type": "code",
   "execution_count": 6,
   "metadata": {},
   "outputs": [],
   "source": [
    "SRC_VOCAB = ['<unk>', '<pad>', '<bos>', '<eos>'] + SRC_VOCAB\n",
    "TRG_VOCAB = ['<unk>', '<pad>', '<bos>', '<eos>'] + TRG_VOCAB"
   ]
  },
  {
   "cell_type": "code",
   "execution_count": 7,
   "metadata": {},
   "outputs": [],
   "source": [
    "SRC_VOCAB_i = list(range(len(SRC_VOCAB)))\n",
    "TRG_VOCAB_i = list(range(len(TRG_VOCAB)))"
   ]
  },
  {
   "cell_type": "code",
   "execution_count": 8,
   "metadata": {},
   "outputs": [],
   "source": [
    "SRC_VOCAB_DICT = {i:j for i, j in zip(SRC_VOCAB, SRC_VOCAB_i)}\n",
    "TRG_VOCAB_DICT = {i:j for i, j in zip(TRG_VOCAB, TRG_VOCAB_i)}"
   ]
  },
  {
   "cell_type": "code",
   "execution_count": 9,
   "metadata": {},
   "outputs": [
    {
     "data": {
      "text/plain": [
       "(117303, 34308)"
      ]
     },
     "execution_count": 9,
     "metadata": {},
     "output_type": "execute_result"
    }
   ],
   "source": [
    "len(SRC_VOCAB_i), len(TRG_VOCAB_i)"
   ]
  },
  {
   "cell_type": "code",
   "execution_count": 10,
   "metadata": {},
   "outputs": [],
   "source": [
    "def sent2tokens(sents,\n",
    "                vocab,\n",
    "                tokenizer,\n",
    "                init_token='<bos>',\n",
    "                eos_token='<eos>',\n",
    "                pad_token='<pad>',\n",
    "                unk_token='<unk>'):\n",
    "    bsz = len(sents)\n",
    "    sents = list(map(tokenizer, sents))\n",
    "    seg_length = [len(sent) for sent in sents]\n",
    "    max_seq_len = max(seg_length) + 2 # BOS, EOS\n",
    "    outputs = [[]] * bsz\n",
    "    for ix, (sent, seg_len) in enumerate(zip(sents, seg_length)):\n",
    "        output = [vocab[init_token]]\n",
    "        output.extend([vocab.get(word, vocab[unk_token]) for word in sent])\n",
    "        output.append(vocab[eos_token])\n",
    "        if seg_len + 2 < max_seq_len: # BOS, EOS는 이미 추가\n",
    "            output.extend(\n",
    "                [vocab[pad_token]] * (max_seq_len - len(output)))\n",
    "        outputs[ix] = output\n",
    "    return outputs\n",
    "\n",
    "def make_iterator(data, vocab, tokenizer,\n",
    "                  batch_size=32,\n",
    "                  init_token='<bos>',\n",
    "                  eos_token='<eos>',\n",
    "                  pad_token='<pad>',\n",
    "                  unk_token='<unk>'):\n",
    "    bsz = batch_size\n",
    "    n_iter = len(data) // bsz\n",
    "    for i in range(n_iter+1):\n",
    "        batch_data = data[i*bsz:(i+1)*bsz] if i < n_iter else data[i*bsz:]\n",
    "        if batch_data == []: break\n",
    "        outputs = sent2tokens(batch_data, vocab, tokenizer)\n",
    "        yield i, batch_data, outputs"
   ]
  },
  {
   "cell_type": "code",
   "execution_count": 11,
   "metadata": {},
   "outputs": [],
   "source": [
    "tokenizer = lambda s: s.split(' ')"
   ]
  },
  {
   "cell_type": "code",
   "execution_count": 12,
   "metadata": {},
   "outputs": [],
   "source": [
    "def get_rand_ind(len_pairs, n):\n",
    "    buffer = []\n",
    "    for i in range(n):\n",
    "        sample = random.choice(list(range(len_pairs)))\n",
    "        while sample not in buffer:\n",
    "            sample = random.choice(list(range(len_pairs)))\n",
    "            buffer.append(sample)\n",
    "    return buffer\n",
    "\n",
    "def sampling(li, ind):\n",
    "    output = []\n",
    "    for i in ind:\n",
    "        output.append(li[i])\n",
    "    return output"
   ]
  },
  {
   "cell_type": "code",
   "execution_count": 18,
   "metadata": {},
   "outputs": [],
   "source": [
    "assert len(SRC) == len(TRG)\n",
    "# ind = get_rand_ind(len(SRC), 5)\n",
    "# ind = [24370, 9983, 31193, 83814, 56242]\n",
    "# ind = [69966, 10151, 97861, 99329, 36490]\n",
    "ind = [26731, 66287, 256, 58182, 11931]\n",
    "src_generator = make_iterator(sampling(SRC, ind), \n",
    "                              SRC_VOCAB_DICT, \n",
    "                              tokenizer, \n",
    "                              batch_size=BATCH_SIZE)\n",
    "trg_generator = make_iterator(sampling(TRG, ind), \n",
    "                              TRG_VOCAB_DICT, \n",
    "                              tokenizer, \n",
    "                              batch_size=BATCH_SIZE)"
   ]
  },
  {
   "cell_type": "code",
   "execution_count": 19,
   "metadata": {},
   "outputs": [],
   "source": [
    "_, src_origin, src_input_exam = next(src_generator)\n",
    "_, trg_origin, trg_input_exam = next(trg_generator)"
   ]
  },
  {
   "cell_type": "code",
   "execution_count": 20,
   "metadata": {},
   "outputs": [
    {
     "data": {
      "text/plain": [
       "[26731, 66287, 256, 58182, 11931]"
      ]
     },
     "execution_count": 20,
     "metadata": {},
     "output_type": "execute_result"
    }
   ],
   "source": [
    "ind"
   ]
  },
  {
   "cell_type": "code",
   "execution_count": 21,
   "metadata": {},
   "outputs": [
    {
     "data": {
      "text/plain": [
       "['15명 이상의 관람객을 단체 관람객으로 분류하고 있습니다.',\n",
       " '비가 오면 정말 번거로워지는 것 같아.',\n",
       " '부산 출장이 2주후로 다가왔습니다. 다들 준비는 착오없이 진행되고 있나요?',\n",
       " '거기 놓치면 절대 안 돼요, 내일 가져가기로 했던 계약서는 봤어요?',\n",
       " '별말씀을요. 혹시 이상 있으면 찾아오세요.']"
      ]
     },
     "execution_count": 21,
     "metadata": {},
     "output_type": "execute_result"
    }
   ],
   "source": [
    "src_origin"
   ]
  },
  {
   "cell_type": "code",
   "execution_count": 22,
   "metadata": {},
   "outputs": [
    {
     "data": {
      "text/plain": [
       "[[2, 10549, 3900, 45910, 3680, 45908, 2282, 16, 3, 1, 1, 1],\n",
       " [2, 2977, 5923, 956, 88842, 39, 2539, 3, 1, 1, 1, 1],\n",
       " [2, 1230, 1231, 1232, 1233, 323, 1234, 1235, 1236, 110, 3, 1],\n",
       " [2, 6726, 22523, 2457, 804, 61496, 105, 78511, 1664, 11442, 71906, 3],\n",
       " [2, 3085, 394, 2615, 133, 26667, 3, 1, 1, 1, 1, 1]]"
      ]
     },
     "execution_count": 22,
     "metadata": {},
     "output_type": "execute_result"
    }
   ],
   "source": [
    "src_input_exam"
   ]
  },
  {
   "cell_type": "code",
   "execution_count": 23,
   "metadata": {},
   "outputs": [
    {
     "data": {
      "text/plain": [
       "['we classify an audience of more than 15 people as a group audience.',\n",
       " \"it's such a bother when it rains.\",\n",
       " \"we will be going to busan in 2 weeks. how's our preparation looking like?\",\n",
       " 'we cannot lose them, did you take a look at the contract to take tomorrow?',\n",
       " 'no problem. please come back if you have any problems.']"
      ]
     },
     "execution_count": 23,
     "metadata": {},
     "output_type": "execute_result"
    }
   ],
   "source": [
    "trg_origin"
   ]
  },
  {
   "cell_type": "code",
   "execution_count": 24,
   "metadata": {},
   "outputs": [
    {
     "data": {
      "text/plain": [
       "[[2, 34, 17571, 475, 3318, 26, 51, 16, 3829, 258, 94, 31, 572, 12917, 3, 1, 1],\n",
       " [2, 116, 1152, 31, 3749, 184, 83, 17759, 3, 1, 1, 1, 1, 1, 1, 1, 1],\n",
       " [2, 34, 190, 139, 121, 9, 946, 62, 86, 793, 947, 55, 948, 279, 949, 3, 1],\n",
       " [2, 34, 1486, 8234, 474, 459, 66, 35, 31, 36, 37, 6, 1062, 9, 35, 125, 3],\n",
       " [2, 1358, 612, 151, 168, 1012, 146, 66, 21, 147, 2388, 3, 1, 1, 1, 1, 1]]"
      ]
     },
     "execution_count": 24,
     "metadata": {},
     "output_type": "execute_result"
    }
   ],
   "source": [
    "trg_input_exam"
   ]
  },
  {
   "cell_type": "code",
   "execution_count": 25,
   "metadata": {},
   "outputs": [],
   "source": [
    "x = torch.LongTensor(src_input_exam)\n",
    "y = torch.LongTensor(trg_input_exam)"
   ]
  },
  {
   "cell_type": "code",
   "execution_count": 26,
   "metadata": {},
   "outputs": [],
   "source": [
    "x_ = torch.LongTensor(src_input_exam)\n",
    "y_ = torch.LongTensor(trg_input_exam)\n",
    "\n",
    "mask_x = x_ > 3\n",
    "x_[mask_x] = x_[mask_x] / x_[mask_x].sum()\n",
    "mask_y = y_ > 3\n",
    "y_[mask_y] = y_[mask_y] / y_[mask_y].sum()"
   ]
  },
  {
   "cell_type": "code",
   "execution_count": 27,
   "metadata": {},
   "outputs": [
    {
     "data": {
      "image/png": "[encoded data removed]",
      "text/plain": [
       "<Figure size 864x576 with 2 Axes>"
      ]
     },
     "metadata": {},
     "output_type": "display_data"
    }
   ],
   "source": [
    "fig = plt.figure(figsize=(12, 8), facecolor='w')\n",
    "ax1 = fig.add_subplot(2,1,1)\n",
    "ax2 = fig.add_subplot(2,1,2)\n",
    "ax1.imshow(x_.detach().numpy())\n",
    "ax2.imshow(y_.detach().numpy())\n",
    "ax1.set_title(f'Masked Source Sentence(bsz=5, seq_len={x_.size(1)})', fontsize=18)\n",
    "ax2.set_title(f'Masked Target Sentence(bsz=5, seq_len={y_.size(1)})', fontsize=18)\n",
    "plt.show()"
   ]
  },
  {
   "cell_type": "markdown",
   "metadata": {},
   "source": [
    "Set HyperParameter of Transformer"
   ]
  },
  {
   "cell_type": "code",
   "execution_count": 28,
   "metadata": {},
   "outputs": [],
   "source": [
    "INPUT_SIZE   = len(SRC_VOCAB_DICT)\n",
    "OUTPUT_SIZE  = len(TRG_VOCAB_DICT)\n",
    "HIDDEN_SIZE  = 256\n",
    "N_SPLITS     = 8\n",
    "N_ENC_BLOCKS = 6\n",
    "N_DEC_BLOCKS = 6\n",
    "DROPOUT_P    = 0.2"
   ]
  },
  {
   "cell_type": "markdown",
   "metadata": {},
   "source": [
    "Start Transformer's Forward!"
   ]
  },
  {
   "cell_type": "code",
   "execution_count": 29,
   "metadata": {},
   "outputs": [
    {
     "data": {
      "text/plain": [
       "tensor([[    2, 10549,  3900, 45910,  3680, 45908,  2282,    16,     3,     1,\n",
       "             1,     1],\n",
       "        [    2,  2977,  5923,   956, 88842,    39,  2539,     3,     1,     1,\n",
       "             1,     1],\n",
       "        [    2,  1230,  1231,  1232,  1233,   323,  1234,  1235,  1236,   110,\n",
       "             3,     1],\n",
       "        [    2,  6726, 22523,  2457,   804, 61496,   105, 78511,  1664, 11442,\n",
       "         71906,     3],\n",
       "        [    2,  3085,   394,  2615,   133, 26667,     3,     1,     1,     1,\n",
       "             1,     1]])"
      ]
     },
     "execution_count": 29,
     "metadata": {},
     "output_type": "execute_result"
    }
   ],
   "source": [
    "x"
   ]
  },
  {
   "cell_type": "code",
   "execution_count": 31,
   "metadata": {},
   "outputs": [
    {
     "data": {
      "text/plain": [
       "tensor([[False, False, False, False, False, False, False, False, False,  True,\n",
       "          True,  True],\n",
       "        [False, False, False, False, False, False, False, False,  True,  True,\n",
       "          True,  True],\n",
       "        [False, False, False, False, False, False, False, False, False, False,\n",
       "         False,  True],\n",
       "        [False, False, False, False, False, False, False, False, False, False,\n",
       "         False, False],\n",
       "        [False, False, False, False, False, False, False,  True,  True,  True,\n",
       "          True,  True]])"
      ]
     },
     "execution_count": 31,
     "metadata": {},
     "output_type": "execute_result"
    }
   ],
   "source": [
    "# make mask\n",
    "mask = []\n",
    "length = (x != 1).sum(dim=-1).tolist()\n",
    "max_length = max(length)\n",
    "for l in length:\n",
    "    if max_length - l > 0:\n",
    "        mask += [torch.cat([x.new_ones(1, l).zero_(),\n",
    "                            x.new_ones(1, (max_length-l))\n",
    "                           ], dim=-1)]\n",
    "    else:\n",
    "        mask += [x.new_ones(1, l).zero_()]\n",
    "mask = torch.cat(mask, dim=0).bool()\n",
    "mask # |mask| = (batch_size, n)"
   ]
  },
  {
   "cell_type": "code",
   "execution_count": 32,
   "metadata": {},
   "outputs": [
    {
     "data": {
      "text/plain": [
       "tensor([[False, False, False, False, False, False, False, False, False,  True,\n",
       "          True,  True],\n",
       "        [False, False, False, False, False, False, False, False,  True,  True,\n",
       "          True,  True],\n",
       "        [False, False, False, False, False, False, False, False, False, False,\n",
       "         False,  True],\n",
       "        [False, False, False, False, False, False, False, False, False, False,\n",
       "         False, False],\n",
       "        [False, False, False, False, False, False, False,  True,  True,  True,\n",
       "          True,  True]])"
      ]
     },
     "execution_count": 32,
     "metadata": {},
     "output_type": "execute_result"
    }
   ],
   "source": [
    "x == SRC_VOCAB_DICT[PAD_TOKEN] # it is same to mask"
   ]
  },
  {
   "cell_type": "code",
   "execution_count": 33,
   "metadata": {},
   "outputs": [
    {
     "name": "stdout",
     "output_type": "stream",
     "text": [
      "|mask_enc|=torch.Size([5, 12, 12])=(batch_size, n, n)\n",
      "|mask_dec|=torch.Size([5, 17, 12])=(batch_size, m, n)\n"
     ]
    }
   ],
   "source": [
    "mask_enc = mask.unsqueeze(1).expand(mask.size(0), x.size(1), mask.size(-1))\n",
    "mask_dec = mask.unsqueeze(1).expand(mask.size(0), y.size(1), mask.size(-1))\n",
    "\n",
    "print(f\"|mask_enc|={mask_enc.shape}=(batch_size, n, n)\\n\"\n",
    "      f\"|mask_dec|={mask_dec.shape}=(batch_size, m, n)\")"
   ]
  },
  {
   "cell_type": "markdown",
   "metadata": {},
   "source": [
    "$\\text{EmbEncLayer}=\\mathbb{N}_{[0,input\\_size-1]} \\rightarrow \\mathbb{R}^{hidden\\_size}$"
   ]
  },
  {
   "cell_type": "code",
   "execution_count": 35,
   "metadata": {},
   "outputs": [
    {
     "data": {
      "text/plain": [
       "torch.Size([117303, 256])"
      ]
     },
     "execution_count": 35,
     "metadata": {},
     "output_type": "execute_result"
    }
   ],
   "source": [
    "# discrete token -> continuous token\n",
    "# \\mathbb{N}_{[0,input_size-1]} -> \\mathbb{R}^{hidden_size}\n",
    "emb_enc = nn.Embedding(INPUT_SIZE, HIDDEN_SIZE)\n",
    "emb_enc.weight.size()"
   ]
  },
  {
   "cell_type": "code",
   "execution_count": 36,
   "metadata": {},
   "outputs": [
    {
     "name": "stdout",
     "output_type": "stream",
     "text": [
      "|emb_enc(x)|=torch.Size([5, 12, 256])=(batch_size,n,hidden_size)\n"
     ]
    }
   ],
   "source": [
    "embedded_x = emb_enc(x)\n",
    "print(f\"|emb_enc(x)|={embedded_x.shape}=(batch_size,n,hidden_size)\")"
   ]
  },
  {
   "cell_type": "code",
   "execution_count": 98,
   "metadata": {},
   "outputs": [
    {
     "name": "stdout",
     "output_type": "stream",
     "text": [
      "length: 12 | hidden_size: 256\n",
      "|enc|=torch.Size([12, 256])=(n,hidden_size)\n"
     ]
    }
   ],
   "source": [
    "# _position_encoding\n",
    "length, hidden_size = embedded_x.size()[1:]\n",
    "print(f\"length: {length} | hidden_size: {hidden_size}\")\n",
    "enc = embedded_x.new_zeros(embedded_x.shape[1:])\n",
    "print(f\"|enc|={enc.shape}=(n,hidden_size)\")\n",
    "init_pos = 0 # argument, default is 0\n",
    "pos = init_pos + torch.arange(0, length).unsqueeze(-1)\n",
    "dim = (10000. ** (torch.arange(0, hidden_size//2).div(hidden_size))).unsqueeze(0)"
   ]
  },
  {
   "cell_type": "code",
   "execution_count": 106,
   "metadata": {},
   "outputs": [
    {
     "data": {
      "text/plain": [
       "tensor([[ 0.,  0.,  0.,  ...,  0.,  0.,  0.],\n",
       "        [ 1.,  1.,  1.,  ...,  1.,  1.,  1.],\n",
       "        [ 2.,  2.,  2.,  ...,  2.,  2.,  2.],\n",
       "        ...,\n",
       "        [ 9.,  9.,  9.,  ...,  9.,  9.,  9.],\n",
       "        [10., 10., 10.,  ..., 10., 10., 10.],\n",
       "        [11., 11., 11.,  ..., 11., 11., 11.]])"
      ]
     },
     "execution_count": 106,
     "metadata": {},
     "output_type": "execute_result"
    }
   ],
   "source": [
    "pos_emb = torch.arange(0, length).unsqueeze(-1).expand(length, 256)\n",
    "pos_emb = pos_emb.float()\n",
    "pos_emb"
   ]
  },
  {
   "cell_type": "code",
   "execution_count": 107,
   "metadata": {},
   "outputs": [],
   "source": [
    "even = (pos_emb % 2) == 0\n",
    "odd  = (pos_emb % 2) == 1"
   ]
  },
  {
   "cell_type": "code",
   "execution_count": 108,
   "metadata": {},
   "outputs": [],
   "source": [
    "pos_emb[even] = torch.sin(pos_emb[even] / (10000.**(pos_emb[even]/hidden_size)))\n",
    "pos_emb[odd]  = torch.sin(pos_emb[odd] / (10000.**(pos_emb[odd]/hidden_size)))"
   ]
  },
  {
   "cell_type": "code",
   "execution_count": 114,
   "metadata": {},
   "outputs": [
    {
     "data": {
      "text/plain": [
       "<matplotlib.image.AxesImage at 0x19bfe46b3c8>"
      ]
     },
     "execution_count": 114,
     "metadata": {},
     "output_type": "execute_result"
    },
    {
     "data": {
      "image/png": "[encoded data removed]",
      "text/plain": [
       "<Figure size 720x720 with 1 Axes>"
      ]
     },
     "metadata": {
      "needs_background": "light"
     },
     "output_type": "display_data"
    }
   ],
   "source": [
    "plt.figure(figsize=(10,10))\n",
    "plt.imshow(pos_emb.detach().numpy()[:,:10])"
   ]
  },
  {
   "cell_type": "code",
   "execution_count": null,
   "metadata": {},
   "outputs": [],
   "source": []
  }
 ],
 "metadata": {
  "kernelspec": {
   "display_name": "basic",
   "language": "python",
   "name": "basic"
  },
  "language_info": {
   "codemirror_mode": {
    "name": "ipython",
    "version": 3
   },
   "file_extension": ".py",
   "mimetype": "text/x-python",
   "name": "python",
   "nbconvert_exporter": "python",
   "pygments_lexer": "ipython3",
   "version": "3.6.9"
  }
 },
 "nbformat": 4,
 "nbformat_minor": 2
}
