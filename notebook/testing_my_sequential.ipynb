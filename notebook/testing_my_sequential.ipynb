{
 "cells": [
  {
   "cell_type": "code",
   "execution_count": 43,
   "metadata": {},
   "outputs": [],
   "source": [
    "_layers = nn.ModuleList(\n",
    "    [nn.Linear(64, 64*2) for _ in range(5)]\n",
    ")\n",
    "for layer in _layers:\n",
    "    layer.bias[64:].data.fill_(-1)"
   ]
  },
  {
   "cell_type": "code",
   "execution_count": 44,
   "metadata": {},
   "outputs": [
    {
     "data": {
      "text/plain": [
       "tensor([-0.1159,  0.1237, -0.0062, -0.0394, -0.1211, -0.0938, -0.0141,  0.1188,\n",
       "         0.1237, -0.1076, -0.0547,  0.0015, -0.0419, -0.1117,  0.0091, -0.1156,\n",
       "        -0.0090, -0.0283,  0.0386,  0.1058, -0.0151,  0.0368, -0.1099, -0.1077,\n",
       "        -0.1157, -0.0680,  0.0809, -0.0913, -0.1209,  0.0979,  0.0262, -0.0185,\n",
       "        -0.0739, -0.0890,  0.0786,  0.0608,  0.1184,  0.1210,  0.1166,  0.1007,\n",
       "         0.0542, -0.0861, -0.0771, -0.0481, -0.0635,  0.0278, -0.1233,  0.0521,\n",
       "         0.0627, -0.1079, -0.0250, -0.0152,  0.0024,  0.0827, -0.0644, -0.0434,\n",
       "        -0.0917, -0.0507, -0.0522, -0.0905, -0.1159, -0.1015, -0.1083, -0.0408,\n",
       "        -1.0000, -1.0000, -1.0000, -1.0000, -1.0000, -1.0000, -1.0000, -1.0000,\n",
       "        -1.0000, -1.0000, -1.0000, -1.0000, -1.0000, -1.0000, -1.0000, -1.0000,\n",
       "        -1.0000, -1.0000, -1.0000, -1.0000, -1.0000, -1.0000, -1.0000, -1.0000,\n",
       "        -1.0000, -1.0000, -1.0000, -1.0000, -1.0000, -1.0000, -1.0000, -1.0000,\n",
       "        -1.0000, -1.0000, -1.0000, -1.0000, -1.0000, -1.0000, -1.0000, -1.0000,\n",
       "        -1.0000, -1.0000, -1.0000, -1.0000, -1.0000, -1.0000, -1.0000, -1.0000,\n",
       "        -1.0000, -1.0000, -1.0000, -1.0000, -1.0000, -1.0000, -1.0000, -1.0000,\n",
       "        -1.0000, -1.0000, -1.0000, -1.0000, -1.0000, -1.0000, -1.0000, -1.0000])"
      ]
     },
     "execution_count": 44,
     "metadata": {},
     "output_type": "execute_result"
    }
   ],
   "source": [
    "_layers[0].bias.data"
   ]
  },
  {
   "cell_type": "code",
   "execution_count": 45,
   "metadata": {},
   "outputs": [
    {
     "data": {
      "text/plain": [
       "tensor([0.4711, 0.5309, 0.4985, 0.4902, 0.4698, 0.4766, 0.4965, 0.5297, 0.5309,\n",
       "        0.4731, 0.4863, 0.5004, 0.4895, 0.4721, 0.5023, 0.4711, 0.4978, 0.4929,\n",
       "        0.5096, 0.5264, 0.4962, 0.5092, 0.4726, 0.4731, 0.4711, 0.4830, 0.5202,\n",
       "        0.4772, 0.4698, 0.5244, 0.5066, 0.4954, 0.4815, 0.4778, 0.5196, 0.5152,\n",
       "        0.5296, 0.5302, 0.5291, 0.5252, 0.5136, 0.4785, 0.4807, 0.4880, 0.4841,\n",
       "        0.5069, 0.4692, 0.5130, 0.5157, 0.4731, 0.4937, 0.4962, 0.5006, 0.5207,\n",
       "        0.4839, 0.4892, 0.4771, 0.4873, 0.4870, 0.4774, 0.4711, 0.4747, 0.4730,\n",
       "        0.4898, 0.2689, 0.2689, 0.2689, 0.2689, 0.2689, 0.2689, 0.2689, 0.2689,\n",
       "        0.2689, 0.2689, 0.2689, 0.2689, 0.2689, 0.2689, 0.2689, 0.2689, 0.2689,\n",
       "        0.2689, 0.2689, 0.2689, 0.2689, 0.2689, 0.2689, 0.2689, 0.2689, 0.2689,\n",
       "        0.2689, 0.2689, 0.2689, 0.2689, 0.2689, 0.2689, 0.2689, 0.2689, 0.2689,\n",
       "        0.2689, 0.2689, 0.2689, 0.2689, 0.2689, 0.2689, 0.2689, 0.2689, 0.2689,\n",
       "        0.2689, 0.2689, 0.2689, 0.2689, 0.2689, 0.2689, 0.2689, 0.2689, 0.2689,\n",
       "        0.2689, 0.2689, 0.2689, 0.2689, 0.2689, 0.2689, 0.2689, 0.2689, 0.2689,\n",
       "        0.2689, 0.2689], grad_fn=<SigmoidBackward>)"
      ]
     },
     "execution_count": 45,
     "metadata": {},
     "output_type": "execute_result"
    }
   ],
   "source": [
    "torch.sigmoid(_layers[0].bias)"
   ]
  },
  {
   "cell_type": "code",
   "execution_count": null,
   "metadata": {},
   "outputs": [],
   "source": []
  },
  {
   "cell_type": "code",
   "execution_count": null,
   "metadata": {},
   "outputs": [],
   "source": []
  },
  {
   "cell_type": "code",
   "execution_count": 1,
   "metadata": {},
   "outputs": [],
   "source": [
    "import torch\n",
    "import torch.nn as nn"
   ]
  },
  {
   "cell_type": "code",
   "execution_count": 2,
   "metadata": {},
   "outputs": [],
   "source": [
    "n_layers = 1\n",
    "dropout_p = 1.0"
   ]
  },
  {
   "cell_type": "code",
   "execution_count": 3,
   "metadata": {},
   "outputs": [],
   "source": [
    "a = nn.functional.relu"
   ]
  },
  {
   "cell_type": "code",
   "execution_count": 4,
   "metadata": {},
   "outputs": [
    {
     "data": {
      "text/plain": [
       "tensor([[0.0000, 1.7353, 0.0000, 0.0000, 0.0000, 0.6365, 0.0000, 0.0000, 0.0000,\n",
       "         0.0000, 0.0000, 0.0000],\n",
       "        [0.0000, 0.0000, 1.5041, 1.4531, 0.0000, 0.0000, 0.0000, 0.0000, 0.0000,\n",
       "         0.0000, 0.3356, 0.0000],\n",
       "        [0.0000, 0.0000, 1.4580, 1.1108, 1.2679, 0.8109, 0.0000, 0.0000, 0.2420,\n",
       "         0.0154, 0.0000, 1.3582],\n",
       "        [1.1051, 0.0000, 1.0936, 0.0000, 1.1014, 0.0000, 0.0000, 0.3494, 0.0000,\n",
       "         0.0000, 2.0714, 0.1309],\n",
       "        [0.0000, 0.0000, 0.0000, 0.0000, 0.0000, 0.0000, 0.0000, 0.0000, 0.0000,\n",
       "         1.2412, 0.0000, 1.3206]])"
      ]
     },
     "execution_count": 4,
     "metadata": {},
     "output_type": "execute_result"
    }
   ],
   "source": [
    "a(torch.randn((5,12)))"
   ]
  },
  {
   "cell_type": "code",
   "execution_count": null,
   "metadata": {},
   "outputs": [],
   "source": []
  },
  {
   "cell_type": "code",
   "execution_count": 5,
   "metadata": {},
   "outputs": [],
   "source": [
    "biLSTM = nn.LSTM(777, 64, batch_first=True, bidirectional=True)"
   ]
  },
  {
   "cell_type": "code",
   "execution_count": 6,
   "metadata": {},
   "outputs": [],
   "source": [
    "uniLSTM = nn.LSTM(64*2, 64*2, batch_first=True, bidirectional=False)"
   ]
  },
  {
   "cell_type": "code",
   "execution_count": 7,
   "metadata": {},
   "outputs": [],
   "source": [
    "biGRU = nn.GRU(777, 64, batch_first=True, bidirectional=True)"
   ]
  },
  {
   "cell_type": "code",
   "execution_count": 8,
   "metadata": {},
   "outputs": [],
   "source": [
    "x = torch.randn((5, 12, 777))"
   ]
  },
  {
   "cell_type": "code",
   "execution_count": 9,
   "metadata": {},
   "outputs": [
    {
     "data": {
      "text/plain": [
       "torch.Size([5, 12, 777])"
      ]
     },
     "execution_count": 9,
     "metadata": {},
     "output_type": "execute_result"
    }
   ],
   "source": [
    "x.shape"
   ]
  },
  {
   "cell_type": "code",
   "execution_count": 10,
   "metadata": {},
   "outputs": [
    {
     "data": {
      "text/plain": [
       "torch.Size([12, 777, 5])"
      ]
     },
     "execution_count": 10,
     "metadata": {},
     "output_type": "execute_result"
    }
   ],
   "source": [
    "x.permute(1, 2, 0).shape"
   ]
  },
  {
   "cell_type": "code",
   "execution_count": 11,
   "metadata": {},
   "outputs": [],
   "source": [
    "output, _ = biLSTM(x)"
   ]
  },
  {
   "cell_type": "code",
   "execution_count": 12,
   "metadata": {},
   "outputs": [
    {
     "data": {
      "text/plain": [
       "torch.Size([5, 12, 128])"
      ]
     },
     "execution_count": 12,
     "metadata": {},
     "output_type": "execute_result"
    }
   ],
   "source": [
    "output.shape"
   ]
  },
  {
   "cell_type": "code",
   "execution_count": 13,
   "metadata": {},
   "outputs": [],
   "source": [
    "output2, _ = uniLSTM(output)"
   ]
  },
  {
   "cell_type": "code",
   "execution_count": 14,
   "metadata": {},
   "outputs": [
    {
     "data": {
      "text/plain": [
       "torch.Size([5, 12, 128])"
      ]
     },
     "execution_count": 14,
     "metadata": {},
     "output_type": "execute_result"
    }
   ],
   "source": [
    "output2.shape"
   ]
  },
  {
   "cell_type": "code",
   "execution_count": null,
   "metadata": {},
   "outputs": [],
   "source": [
    "nn.GRU()"
   ]
  },
  {
   "cell_type": "code",
   "execution_count": 15,
   "metadata": {},
   "outputs": [],
   "source": [
    "import matplotlib.pyplot as plt\n",
    "%matplotlib inline"
   ]
  },
  {
   "cell_type": "code",
   "execution_count": 31,
   "metadata": {},
   "outputs": [
    {
     "data": {
      "text/plain": [
       "[<matplotlib.lines.Line2D at 0x175e10eb400>]"
      ]
     },
     "execution_count": 31,
     "metadata": {},
     "output_type": "execute_result"
    },
    {
     "data": {
      "image/png": "[encoded data removed]",
      "text/plain": [
       "<Figure size 1440x360 with 1 Axes>"
      ]
     },
     "metadata": {
      "needs_background": "light"
     },
     "output_type": "display_data"
    }
   ],
   "source": [
    "plt.figure(figsize=(20, 5))\n",
    "plt.plot(layernorm(output + dropout(output2)).flatten().detach().numpy())\n",
    "plt.plot(output.flatten().detach().numpy())\n",
    "plt.plot(output2.flatten().detach().numpy())"
   ]
  },
  {
   "cell_type": "code",
   "execution_count": 22,
   "metadata": {},
   "outputs": [],
   "source": [
    "layernorm = nn.LayerNorm(128)\n",
    "dropout = nn.Dropout(0.2)"
   ]
  },
  {
   "cell_type": "code",
   "execution_count": 23,
   "metadata": {},
   "outputs": [
    {
     "data": {
      "text/plain": [
       "tensor([[[ 1.2434e+00, -2.4495e-01, -3.6288e-01,  ...,  7.6937e-02,\n",
       "           9.5851e-01,  1.0279e+00],\n",
       "         [ 5.3839e-01,  6.5054e-01, -1.3497e+00,  ...,  2.6897e+00,\n",
       "          -2.0532e-01,  1.3393e-01],\n",
       "         [ 8.5057e-01, -1.6658e-01, -1.4562e+00,  ...,  9.0681e-01,\n",
       "          -7.4455e-01, -5.0406e-01],\n",
       "         ...,\n",
       "         [-5.5289e-01,  5.1203e-01,  6.1144e-01,  ...,  8.4892e-01,\n",
       "          -4.0989e-02,  2.6787e+00],\n",
       "         [-8.4004e-01,  4.5974e-02,  1.7800e+00,  ..., -5.3906e-03,\n",
       "          -2.7411e-01,  3.6613e-01],\n",
       "         [-4.4802e-01,  1.0362e-02, -3.0374e-01,  ...,  2.5987e-01,\n",
       "           1.4515e-01,  8.8607e-03]],\n",
       "\n",
       "        [[ 6.8403e-01,  6.4994e-01, -4.3451e-01,  ..., -1.2640e+00,\n",
       "          -1.6077e+00,  1.3677e+00],\n",
       "         [ 8.0739e-02,  1.6398e+00,  1.4902e-01,  ..., -2.1341e+00,\n",
       "          -2.2866e-01,  8.1423e-01],\n",
       "         [ 5.3898e-01, -5.5237e-02, -1.9822e+00,  ..., -1.0642e+00,\n",
       "          -4.5954e-01, -1.4923e-01],\n",
       "         ...,\n",
       "         [ 3.6295e-01,  5.3773e-03, -3.2602e+00,  ...,  1.4429e+00,\n",
       "          -5.1987e-03,  2.0396e+00],\n",
       "         [-8.1996e-01, -5.4860e-01, -4.4133e-01,  ..., -2.2830e-01,\n",
       "           1.1153e+00,  9.4969e-01],\n",
       "         [-2.9229e-01, -1.1293e-01, -1.2570e+00,  ..., -8.6165e-01,\n",
       "           9.2477e-02,  4.3948e-01]],\n",
       "\n",
       "        [[-9.7513e-01,  1.8663e+00,  4.0337e-02,  ..., -3.2418e-02,\n",
       "           9.9107e-01,  4.9475e-01],\n",
       "         [ 2.1526e-01, -2.4630e-01,  6.7927e-02,  ...,  3.3355e-01,\n",
       "          -6.6207e-01,  1.3244e+00],\n",
       "         [ 2.9959e-02, -1.7654e+00, -2.7560e-01,  ...,  7.4508e-01,\n",
       "          -3.9016e-01, -9.0841e-03],\n",
       "         ...,\n",
       "         [ 1.8981e-04, -6.2817e-01, -1.9035e-01,  ..., -4.2816e-01,\n",
       "          -5.0712e-01, -1.8221e+00],\n",
       "         [ 2.2521e-01, -8.9805e-01, -8.2072e-02,  ..., -9.9737e-01,\n",
       "          -2.3820e+00, -3.7160e-01],\n",
       "         [ 1.2571e+00, -1.9753e+00,  7.2740e-01,  ..., -9.2581e-01,\n",
       "           4.0934e-01,  5.4644e-01]],\n",
       "\n",
       "        [[-1.7979e+00, -2.3422e+00,  2.3586e+00,  ...,  1.4823e+00,\n",
       "           5.9344e-01,  1.5145e-01],\n",
       "         [-1.0453e-01, -2.4055e+00, -1.0671e-01,  ...,  2.2466e-01,\n",
       "           3.5746e-02, -6.5536e-02],\n",
       "         [ 1.5177e-01, -2.8419e+00,  1.1405e+00,  ...,  2.1817e+00,\n",
       "           6.9494e-01, -8.6637e-02],\n",
       "         ...,\n",
       "         [ 2.2220e-01,  2.1234e+00,  9.3125e-01,  ..., -5.6924e-01,\n",
       "          -2.9757e-01,  1.1486e+00],\n",
       "         [-1.2219e+00, -3.6115e-01,  5.4062e-02,  ..., -4.8927e-01,\n",
       "           2.4448e+00, -1.8563e-01],\n",
       "         [-3.3110e-02, -5.5491e-01, -6.0657e-01,  ..., -2.3215e+00,\n",
       "          -7.3412e-01,  2.0946e-01]],\n",
       "\n",
       "        [[ 1.2255e+00,  8.1208e-01, -1.5987e+00,  ...,  5.3415e-01,\n",
       "           8.8469e-02,  1.6056e+00],\n",
       "         [ 1.7228e+00,  2.5219e+00, -1.5703e+00,  ...,  1.4244e+00,\n",
       "          -1.7756e-01,  1.9320e+00],\n",
       "         [-1.3737e+00, -1.4922e-01, -2.1463e+00,  ..., -4.2751e-01,\n",
       "          -2.4662e+00,  1.8704e+00],\n",
       "         ...,\n",
       "         [ 1.6271e-01,  6.3387e-01, -1.6647e-01,  ..., -1.1595e-01,\n",
       "          -1.9100e+00,  1.6487e-01],\n",
       "         [ 2.4185e-01, -2.7823e-02,  4.9107e-01,  ...,  1.3870e-01,\n",
       "          -5.6001e-01,  2.2041e+00],\n",
       "         [-2.0255e-01,  1.2174e-01, -2.3574e-01,  ...,  8.3574e-02,\n",
       "           1.5429e+00, -5.1131e-02]]], grad_fn=<NativeLayerNormBackward>)"
      ]
     },
     "execution_count": 23,
     "metadata": {},
     "output_type": "execute_result"
    }
   ],
   "source": []
  },
  {
   "cell_type": "code",
   "execution_count": 45,
   "metadata": {},
   "outputs": [
    {
     "data": {
      "text/plain": [
       "tensor([[[-0.0271,  0.1279, -0.3636,  ..., -0.0282,  0.3554,  0.2248],\n",
       "         [ 0.0327, -0.0109, -0.0806,  ...,  0.0876,  0.3172, -0.1501],\n",
       "         [-0.0578,  0.0597, -0.1523,  ..., -0.1545,  0.2673,  0.0118],\n",
       "         ...,\n",
       "         [-0.5318,  0.1153,  0.0297,  ..., -0.6778,  0.7202,  0.0653],\n",
       "         [-0.4295, -0.1059, -0.0361,  ..., -0.3717,  0.1803,  0.0574],\n",
       "         [-0.0710, -0.0730, -0.1332,  ...,  0.0975,  0.0922, -0.0795]],\n",
       "\n",
       "        [[-0.1748, -0.2567, -0.0148,  ...,  0.1198,  0.2451, -0.4635],\n",
       "         [ 0.2578,  0.0337,  0.0234,  ...,  0.5426, -0.0116, -0.3563],\n",
       "         [ 0.3911,  0.2860, -0.0123,  ...,  0.2805,  0.0305,  0.2524],\n",
       "         ...,\n",
       "         [-0.1438, -0.3784,  0.3761,  ...,  0.0172,  0.1321,  0.1111],\n",
       "         [-0.4201, -0.2703, -0.0877,  ..., -0.1077, -0.0179, -0.0076],\n",
       "         [ 0.0510, -0.4189,  0.1715,  ..., -0.1669,  0.0650, -0.2857]],\n",
       "\n",
       "        [[-0.0302, -0.0319, -0.0642,  ..., -0.0771, -0.1112, -0.4778],\n",
       "         [-0.0487, -0.3973,  0.1245,  ..., -0.0482, -0.1586, -0.7500],\n",
       "         [-0.0761, -0.2092,  0.4138,  ..., -0.0133,  0.1409, -0.2043],\n",
       "         ...,\n",
       "         [ 0.5190,  0.2411, -0.1763,  ..., -0.1819,  0.0324, -0.3267],\n",
       "         [ 0.0605, -0.2724, -0.7227,  ...,  0.0746, -0.0553, -0.1721],\n",
       "         [-0.1732,  0.0190, -0.4109,  ..., -0.0068,  0.0999,  0.0749]],\n",
       "\n",
       "        [[-0.0026, -0.0373, -0.0796,  ...,  0.0692, -0.4898,  0.1479],\n",
       "         [-0.1606, -0.0289, -0.0408,  ..., -0.0277, -0.1369, -0.6639],\n",
       "         [ 0.0700, -0.5776, -0.1823,  ..., -0.2239, -0.0503, -0.6354],\n",
       "         ...,\n",
       "         [ 0.0085, -0.2102,  0.2572,  ..., -0.2456, -0.0309,  0.1824],\n",
       "         [ 0.1229, -0.2210, -0.0012,  ..., -0.1340,  0.2872,  0.0384],\n",
       "         [ 0.0881,  0.1261,  0.1963,  ..., -0.1266, -0.2106,  0.0237]],\n",
       "\n",
       "        [[ 0.1431,  0.0186,  0.0856,  ..., -0.0412,  0.1097, -0.4244],\n",
       "         [-0.3320,  0.1449, -0.0018,  ..., -0.4236,  0.0372,  0.0064],\n",
       "         [ 0.3349,  0.0361, -0.1833,  ..., -0.2114,  0.0558,  0.0382],\n",
       "         ...,\n",
       "         [-0.0697,  0.0281, -0.0601,  ..., -0.1392,  0.2215, -0.1942],\n",
       "         [-0.1419,  0.1089, -0.0430,  ..., -0.2917,  0.1283, -0.5949],\n",
       "         [-0.0243,  0.1592, -0.0812,  ..., -0.4162,  0.0762, -0.0887]]],\n",
       "       grad_fn=<AddBackward0>)"
      ]
     },
     "execution_count": 45,
     "metadata": {},
     "output_type": "execute_result"
    }
   ],
   "source": [
    "output + output2"
   ]
  },
  {
   "cell_type": "code",
   "execution_count": null,
   "metadata": {},
   "outputs": [],
   "source": []
  },
  {
   "cell_type": "code",
   "execution_count": 81,
   "metadata": {},
   "outputs": [
    {
     "data": {
      "text/plain": [
       "torch.Size([12, 5, 777])"
      ]
     },
     "execution_count": 81,
     "metadata": {},
     "output_type": "execute_result"
    }
   ],
   "source": [
    "torch.transpose(x, 0, 1).shape"
   ]
  },
  {
   "cell_type": "code",
   "execution_count": 87,
   "metadata": {},
   "outputs": [
    {
     "data": {
      "text/plain": [
       "tensor(0.)"
      ]
     },
     "execution_count": 87,
     "metadata": {},
     "output_type": "execute_result"
    }
   ],
   "source": [
    "(torch.transpose(torch.transpose(x, 0, 1), 1, 2) - x.permute(1, 2, 0)).sum()"
   ]
  },
  {
   "cell_type": "code",
   "execution_count": 73,
   "metadata": {},
   "outputs": [],
   "source": [
    "output, hidden_state = biLSTM(x)"
   ]
  },
  {
   "cell_type": "code",
   "execution_count": 74,
   "metadata": {},
   "outputs": [
    {
     "data": {
      "text/plain": [
       "torch.Size([5, 12, 128])"
      ]
     },
     "execution_count": 74,
     "metadata": {},
     "output_type": "execute_result"
    }
   ],
   "source": [
    "output.shape"
   ]
  },
  {
   "cell_type": "code",
   "execution_count": 75,
   "metadata": {},
   "outputs": [
    {
     "data": {
      "text/plain": [
       "(torch.Size([2, 5, 64]), torch.Size([2, 5, 64]))"
      ]
     },
     "execution_count": 75,
     "metadata": {},
     "output_type": "execute_result"
    }
   ],
   "source": [
    "hidden_state[0].shape, hidden_state[1].shape"
   ]
  },
  {
   "cell_type": "code",
   "execution_count": 76,
   "metadata": {},
   "outputs": [],
   "source": [
    "output, hidden_state = biGRU(x)"
   ]
  },
  {
   "cell_type": "code",
   "execution_count": 77,
   "metadata": {},
   "outputs": [
    {
     "data": {
      "text/plain": [
       "torch.Size([5, 12, 128])"
      ]
     },
     "execution_count": 77,
     "metadata": {},
     "output_type": "execute_result"
    }
   ],
   "source": [
    "output.shape"
   ]
  },
  {
   "cell_type": "code",
   "execution_count": 78,
   "metadata": {},
   "outputs": [
    {
     "data": {
      "text/plain": [
       "(torch.Size([5, 64]), torch.Size([5, 64]))"
      ]
     },
     "execution_count": 78,
     "metadata": {},
     "output_type": "execute_result"
    }
   ],
   "source": [
    "hidden_state[0].shape, hidden_state[1].shape"
   ]
  },
  {
   "cell_type": "code",
   "execution_count": null,
   "metadata": {},
   "outputs": [],
   "source": []
  },
  {
   "cell_type": "code",
   "execution_count": 23,
   "metadata": {},
   "outputs": [],
   "source": [
    "import matplotlib.pyplot as plt\n",
    "%matplotlib inline"
   ]
  },
  {
   "cell_type": "code",
   "execution_count": 25,
   "metadata": {},
   "outputs": [
    {
     "data": {
      "text/plain": [
       "[<matplotlib.lines.Line2D at 0x18bbba69ac8>]"
      ]
     },
     "execution_count": 25,
     "metadata": {},
     "output_type": "execute_result"
    },
    {
     "data": {
      "image/png": "[encoded data removed]",
      "text/plain": [
       "<Figure size 432x288 with 1 Axes>"
      ]
     },
     "metadata": {
      "needs_background": "light"
     },
     "output_type": "display_data"
    }
   ],
   "source": [
    "layer = nn.Linear(256, 256*2)\n",
    "plt.plot(layer.bias.detach().numpy())"
   ]
  },
  {
   "cell_type": "code",
   "execution_count": 28,
   "metadata": {},
   "outputs": [
    {
     "data": {
      "text/plain": [
       "tensor([1., 1., 1., 1., 1., 1., 1., 1., 1., 1., 1., 1., 1., 1., 1., 1., 1., 1.,\n",
       "        1., 1., 1., 1., 1., 1., 1., 1., 1., 1., 1., 1., 1., 1., 1., 1., 1., 1.,\n",
       "        1., 1., 1., 1., 1., 1., 1., 1., 1., 1., 1., 1., 1., 1., 1., 1., 1., 1.,\n",
       "        1., 1., 1., 1., 1., 1., 1., 1., 1., 1., 1., 1., 1., 1., 1., 1., 1., 1.,\n",
       "        1., 1., 1., 1., 1., 1., 1., 1., 1., 1., 1., 1., 1., 1., 1., 1., 1., 1.,\n",
       "        1., 1., 1., 1., 1., 1., 1., 1., 1., 1., 1., 1., 1., 1., 1., 1., 1., 1.,\n",
       "        1., 1., 1., 1., 1., 1., 1., 1., 1., 1., 1., 1., 1., 1., 1., 1., 1., 1.,\n",
       "        1., 1., 1., 1., 1., 1., 1., 1., 1., 1., 1., 1., 1., 1., 1., 1., 1., 1.,\n",
       "        1., 1., 1., 1., 1., 1., 1., 1., 1., 1., 1., 1., 1., 1., 1., 1., 1., 1.,\n",
       "        1., 1., 1., 1., 1., 1., 1., 1., 1., 1., 1., 1., 1., 1., 1., 1., 1., 1.,\n",
       "        1., 1., 1., 1., 1., 1., 1., 1., 1., 1., 1., 1., 1., 1., 1., 1., 1., 1.,\n",
       "        1., 1., 1., 1., 1., 1., 1., 1., 1., 1., 1., 1., 1., 1., 1., 1., 1., 1.,\n",
       "        1., 1., 1., 1., 1., 1., 1., 1., 1., 1., 1., 1., 1., 1., 1., 1., 1., 1.,\n",
       "        1., 1., 1., 1., 1., 1., 1., 1., 1., 1., 1., 1., 1., 1., 1., 1., 1., 1.,\n",
       "        1., 1., 1., 1.])"
      ]
     },
     "execution_count": 28,
     "metadata": {},
     "output_type": "execute_result"
    }
   ],
   "source": [
    "layer.bias[256:].data.fill_(1)"
   ]
  },
  {
   "cell_type": "code",
   "execution_count": 30,
   "metadata": {},
   "outputs": [
    {
     "data": {
      "text/plain": [
       "[<matplotlib.lines.Line2D at 0x18bbcaac898>]"
      ]
     },
     "execution_count": 30,
     "metadata": {},
     "output_type": "execute_result"
    },
    {
     "data": {
      "image/png": "[encoded data removed]",
      "text/plain": [
       "<Figure size 432x288 with 1 Axes>"
      ]
     },
     "metadata": {
      "needs_background": "light"
     },
     "output_type": "display_data"
    }
   ],
   "source": [
    "plt.plot(layer.bias.detach().numpy())"
   ]
  },
  {
   "cell_type": "code",
   "execution_count": 14,
   "metadata": {},
   "outputs": [],
   "source": [
    "params = {\n",
    "    'input_size': 512,\n",
    "    'hidden_size': 256,\n",
    "    'num_layers': 1,\n",
    "    'bias': True,\n",
    "    'batch_first': True,\n",
    "    'dropout': 0.2,\n",
    "}"
   ]
  },
  {
   "cell_type": "code",
   "execution_count": 15,
   "metadata": {},
   "outputs": [
    {
     "data": {
      "text/plain": [
       "LSTM(512, 256, batch_first=True, dropout=0.2, bidirectional=True)"
      ]
     },
     "execution_count": 15,
     "metadata": {},
     "output_type": "execute_result"
    }
   ],
   "source": [
    "nn.LSTM(**params, bidirectional=True)"
   ]
  },
  {
   "cell_type": "code",
   "execution_count": null,
   "metadata": {},
   "outputs": [],
   "source": [
    "nn.GRU()"
   ]
  },
  {
   "cell_type": "code",
   "execution_count": 2,
   "metadata": {},
   "outputs": [],
   "source": [
    "class Attention(nn.Module):\n",
    "\n",
    "    def __init__(self):\n",
    "        super().__init__()\n",
    "\n",
    "        self.softmax = nn.Softmax(dim=-1)\n",
    "\n",
    "    def forward(self, Q, K, V, mask=None, dk=64):\n",
    "        # |Q| = (batch_size, m, hidden_size)\n",
    "        # |K| = |V| = (batch_size, n, hidden_size)\n",
    "        # |mask| = (batch_size, m, n)\n",
    "\n",
    "        w = torch.bmm(Q, K.transpose(1, 2))\n",
    "        # |w| = (batch_size, m, n)\n",
    "        if mask is not None:\n",
    "            assert w.size() == mask.size()\n",
    "            w.masked_fill_(mask, -float('inf'))\n",
    "\n",
    "        w = self.softmax(w / (dk**.5))\n",
    "        c = torch.bmm(w, V)\n",
    "        # |c| = (batch_size, m, hidden_size)\n",
    "\n",
    "        return c\n",
    "\n",
    "\n",
    "class MultiHead(nn.Module):\n",
    "\n",
    "    def __init__(self, hidden_size, n_splits):\n",
    "        super().__init__()\n",
    "\n",
    "        self.hidden_size = hidden_size\n",
    "        self.n_splits = n_splits\n",
    "\n",
    "        # Note that we don't have to declare each linear layer, separately.\n",
    "        self.Q_linear = nn.Linear(hidden_size, hidden_size, bias=False)\n",
    "        self.K_linear = nn.Linear(hidden_size, hidden_size, bias=False)\n",
    "        self.V_linear = nn.Linear(hidden_size, hidden_size, bias=False)\n",
    "        self.linear = nn.Linear(hidden_size, hidden_size, bias=False)\n",
    "\n",
    "        self.attn = Attention()\n",
    "\n",
    "    def forward(self, Q, K, V, mask=None):\n",
    "        # |Q| = (batch_size, m, hidden_size)\n",
    "        # |K| = |V| = (batch_size, n, hidden_size)\n",
    "        # |mask| = (batch_size, m, n)\n",
    "\n",
    "        QWs = self.Q_linear(Q).split(self.hidden_size // self.n_splits, dim=-1)\n",
    "        KWs = self.K_linear(K).split(self.hidden_size // self.n_splits, dim=-1)\n",
    "        VWs = self.V_linear(V).split(self.hidden_size // self.n_splits, dim=-1)\n",
    "        # |QW_i| = (batch_size, m, hidden_size / n_splits)\n",
    "        # |KW_i| = |VW_i| = (batch_size, n, hidden_size / n_splits)\n",
    "\n",
    "        # By concatenating splited linear transformed results,\n",
    "        # we can remove sequential operations,\n",
    "        # like mini-batch parallel operations.\n",
    "        QWs = torch.cat(QWs, dim=0)\n",
    "        KWs = torch.cat(KWs, dim=0)\n",
    "        VWs = torch.cat(VWs, dim=0)\n",
    "        # |QWs| = (batch_size * n_splits, m, hidden_size / n_splits)\n",
    "        # |KWs| = |VWs| = (batch_size * n_splits, n, hidden_size / n_splits)\n",
    "\n",
    "        if mask is not None:\n",
    "            mask = torch.cat([mask for _ in range(self.n_splits)], dim=0)\n",
    "            # |mask| = (batch_size * n_splits, m, n)\n",
    "\n",
    "        c = self.attn(\n",
    "            QWs, KWs, VWs,\n",
    "            mask=mask,\n",
    "            dk=self.hidden_size // self.n_splits,\n",
    "        )\n",
    "        # |c| = (batch_size * n_splits, m, hidden_size / n_splits)\n",
    "\n",
    "        # We need to restore temporal mini-batchfied multi-head attention results.\n",
    "        c = c.split(Q.size(0), dim=0)\n",
    "        # |c_i| = (batch_size, m, hidden_size / n_splits)\n",
    "        c = self.linear(torch.cat(c, dim=-1))\n",
    "        # |c| = (batch_size, m, hidden_size)\n",
    "\n",
    "        return c"
   ]
  },
  {
   "cell_type": "code",
   "execution_count": 87,
   "metadata": {},
   "outputs": [],
   "source": [
    "class EncoderBlock(nn.Module):\n",
    "\n",
    "    def __init__(self, hidden_size, n_splits,\n",
    "                 dropout_p=.1, use_leaky_relu=False\n",
    "                 ):\n",
    "        super().__init__()\n",
    "\n",
    "        self.attn = MultiHead(hidden_size, n_splits)\n",
    "        self.attn_norm = nn.LayerNorm(hidden_size)\n",
    "        self.attn_dropout = nn.Dropout(dropout_p)\n",
    "\n",
    "        self.fc = nn.Sequential(\n",
    "            nn.Linear(hidden_size, hidden_size * 4),\n",
    "            nn.LeakyReLU() if use_leaky_relu else nn.ReLU(),\n",
    "            nn.Linear(hidden_size * 4, hidden_size),\n",
    "        )\n",
    "        self.fc_norm = nn.LayerNorm(hidden_size)\n",
    "        self.fc_dropout = nn.Dropout(dropout_p)\n",
    "\n",
    "    def forward(self, x, mask):\n",
    "        # |x| = (batch_size, n, hidden_size)\n",
    "        # |mask| = (batch_size, n, n)\n",
    "        print('\\n\\n\\n\\n\\n\\n')\n",
    "        print(x.mean())\n",
    "        print(mask.shape)\n",
    "        z = self.attn_norm(x + self.attn_dropout(self.attn(Q=x,\n",
    "                                                           K=x,\n",
    "                                                           V=x,\n",
    "                                                           mask=mask)))\n",
    "        z = self.fc_norm(z + self.fc_dropout(self.fc(z)))\n",
    "        # |z| = (batch_size, n, hidden_size)\n",
    "        print(z.mean())\n",
    "        return z, mask"
   ]
  },
  {
   "cell_type": "code",
   "execution_count": 88,
   "metadata": {},
   "outputs": [],
   "source": [
    "class MySequential(nn.Sequential):\n",
    "\n",
    "    def forward(self, *x):\n",
    "        # nn.Sequential class does not provide multiple input arguments and returns.\n",
    "        # Thus, we need to define new class to solve this issue.\n",
    "        # Note that each block has same function interface.\n",
    "\n",
    "        for module in self._modules.values():\n",
    "            x = module(*x)\n",
    "\n",
    "        return x"
   ]
  },
  {
   "cell_type": "code",
   "execution_count": 89,
   "metadata": {},
   "outputs": [],
   "source": [
    "encoder = MySequential(\n",
    "            *[EncoderBlock(\n",
    "                512,\n",
    "                8,\n",
    "                0.1,\n",
    "                False,\n",
    "              ) for _ in range(8)],\n",
    "        )"
   ]
  },
  {
   "cell_type": "code",
   "execution_count": 90,
   "metadata": {},
   "outputs": [],
   "source": [
    "x = [[    2, 10549,  3900, 45910,  3680, 45908,  2282,    16,     3,     1,\n",
    "             1,     1],\n",
    "        [    2,  2977,  5923,   956, 88842,    39,  2539,     3,     1,     1,\n",
    "             1,     1],\n",
    "        [    2,  1230,  1231,  1232,  1233,   323,  1234,  1235,  1236,   110,\n",
    "             3,     1],\n",
    "        [    2,  6726, 22523,  2457,   804, 61496,   105, 78511,  1664, 11442,\n",
    "         71906,     3],\n",
    "        [    2,  3085,   394,  2615,   133, 26667,     3,     1,     1,     1,\n",
    "             1,     1]]"
   ]
  },
  {
   "cell_type": "code",
   "execution_count": 91,
   "metadata": {},
   "outputs": [],
   "source": [
    "x = torch.LongTensor(x)"
   ]
  },
  {
   "cell_type": "code",
   "execution_count": 92,
   "metadata": {},
   "outputs": [
    {
     "data": {
      "text/plain": [
       "tensor([[    2, 10549,  3900, 45910,  3680, 45908,  2282,    16,     3,     1,\n",
       "             1,     1],\n",
       "        [    2,  2977,  5923,   956, 88842,    39,  2539,     3,     1,     1,\n",
       "             1,     1],\n",
       "        [    2,  1230,  1231,  1232,  1233,   323,  1234,  1235,  1236,   110,\n",
       "             3,     1],\n",
       "        [    2,  6726, 22523,  2457,   804, 61496,   105, 78511,  1664, 11442,\n",
       "         71906,     3],\n",
       "        [    2,  3085,   394,  2615,   133, 26667,     3,     1,     1,     1,\n",
       "             1,     1]])"
      ]
     },
     "execution_count": 92,
     "metadata": {},
     "output_type": "execute_result"
    }
   ],
   "source": [
    "x"
   ]
  },
  {
   "cell_type": "code",
   "execution_count": 93,
   "metadata": {},
   "outputs": [],
   "source": [
    "embedded_x = nn.Embedding(x.max()+5, 512)(x)"
   ]
  },
  {
   "cell_type": "code",
   "execution_count": 94,
   "metadata": {},
   "outputs": [
    {
     "data": {
      "text/plain": [
       "tensor([[[ 0.7817,  0.3814,  1.1691,  ...,  0.3171, -1.5591,  0.2325],\n",
       "         [-0.1527,  0.2612,  0.7388,  ..., -0.1990,  0.8230, -0.0373],\n",
       "         [ 0.6160, -0.4583,  0.1465,  ...,  0.6104,  0.3407,  1.5700],\n",
       "         ...,\n",
       "         [ 0.3604, -0.9384, -0.6313,  ..., -0.1238, -1.0589, -1.2559],\n",
       "         [ 0.3604, -0.9384, -0.6313,  ..., -0.1238, -1.0589, -1.2559],\n",
       "         [ 0.3604, -0.9384, -0.6313,  ..., -0.1238, -1.0589, -1.2559]],\n",
       "\n",
       "        [[ 0.7817,  0.3814,  1.1691,  ...,  0.3171, -1.5591,  0.2325],\n",
       "         [-0.3984,  0.0500,  0.4003,  ...,  0.8389,  0.6758,  1.1031],\n",
       "         [ 0.4136,  0.6204, -0.7397,  ..., -0.1243,  0.4232,  0.7346],\n",
       "         ...,\n",
       "         [ 0.3604, -0.9384, -0.6313,  ..., -0.1238, -1.0589, -1.2559],\n",
       "         [ 0.3604, -0.9384, -0.6313,  ..., -0.1238, -1.0589, -1.2559],\n",
       "         [ 0.3604, -0.9384, -0.6313,  ..., -0.1238, -1.0589, -1.2559]],\n",
       "\n",
       "        [[ 0.7817,  0.3814,  1.1691,  ...,  0.3171, -1.5591,  0.2325],\n",
       "         [ 0.9963,  0.2772, -0.6779,  ..., -0.0947,  1.2092,  0.0057],\n",
       "         [-0.9627, -0.3183,  0.6749,  ...,  0.2384,  1.5698, -0.0849],\n",
       "         ...,\n",
       "         [ 0.0250,  0.1714,  2.0796,  ...,  0.5254, -0.4440, -1.5918],\n",
       "         [-1.1475, -0.9625,  0.3301,  ..., -1.5649, -0.1647, -1.3087],\n",
       "         [ 0.3604, -0.9384, -0.6313,  ..., -0.1238, -1.0589, -1.2559]],\n",
       "\n",
       "        [[ 0.7817,  0.3814,  1.1691,  ...,  0.3171, -1.5591,  0.2325],\n",
       "         [-0.2411, -0.1488,  1.1389,  ..., -0.3768, -0.9011, -0.8647],\n",
       "         [-0.0175, -0.3372,  1.0127,  ...,  1.1076,  0.5821, -0.4106],\n",
       "         ...,\n",
       "         [-0.6336, -1.4988, -0.1679,  ...,  1.2361, -1.2317, -0.0092],\n",
       "         [-0.6847,  0.8532,  0.6848,  ...,  1.3983, -0.9743,  0.2998],\n",
       "         [-1.1475, -0.9625,  0.3301,  ..., -1.5649, -0.1647, -1.3087]],\n",
       "\n",
       "        [[ 0.7817,  0.3814,  1.1691,  ...,  0.3171, -1.5591,  0.2325],\n",
       "         [ 1.0709, -2.3666,  1.4588,  ..., -0.9400,  0.0428, -0.4984],\n",
       "         [-0.1173, -1.1536,  0.2123,  ...,  0.6032, -0.1894, -0.5297],\n",
       "         ...,\n",
       "         [ 0.3604, -0.9384, -0.6313,  ..., -0.1238, -1.0589, -1.2559],\n",
       "         [ 0.3604, -0.9384, -0.6313,  ..., -0.1238, -1.0589, -1.2559],\n",
       "         [ 0.3604, -0.9384, -0.6313,  ..., -0.1238, -1.0589, -1.2559]]],\n",
       "       grad_fn=<EmbeddingBackward>)"
      ]
     },
     "execution_count": 94,
     "metadata": {},
     "output_type": "execute_result"
    }
   ],
   "source": [
    "embedded_x"
   ]
  },
  {
   "cell_type": "code",
   "execution_count": 95,
   "metadata": {},
   "outputs": [],
   "source": [
    "mask = x == 1"
   ]
  },
  {
   "cell_type": "code",
   "execution_count": 96,
   "metadata": {},
   "outputs": [],
   "source": [
    "mask_enc = mask.unsqueeze(1).expand(mask.size(0), x.size(1), mask.size(-1))"
   ]
  },
  {
   "cell_type": "code",
   "execution_count": 97,
   "metadata": {},
   "outputs": [
    {
     "data": {
      "text/plain": [
       "torch.Size([5, 12, 12])"
      ]
     },
     "execution_count": 97,
     "metadata": {},
     "output_type": "execute_result"
    }
   ],
   "source": [
    "mask_enc.shape"
   ]
  },
  {
   "cell_type": "code",
   "execution_count": 98,
   "metadata": {},
   "outputs": [],
   "source": [
    "enc = embedded_x.new_zeros(embedded_x.shape[1:])"
   ]
  },
  {
   "cell_type": "code",
   "execution_count": 99,
   "metadata": {},
   "outputs": [
    {
     "data": {
      "text/plain": [
       "torch.Size([12, 512])"
      ]
     },
     "execution_count": 99,
     "metadata": {},
     "output_type": "execute_result"
    }
   ],
   "source": [
    "enc.shape"
   ]
  },
  {
   "cell_type": "code",
   "execution_count": 100,
   "metadata": {},
   "outputs": [
    {
     "data": {
      "text/plain": [
       "torch.Size([12, 1])"
      ]
     },
     "execution_count": 100,
     "metadata": {},
     "output_type": "execute_result"
    }
   ],
   "source": [
    "pos = torch.arange(0, enc.size(0)).float().unsqueeze(-1)\n",
    "pos.shape"
   ]
  },
  {
   "cell_type": "code",
   "execution_count": 101,
   "metadata": {},
   "outputs": [],
   "source": [
    "dim = (10000. ** (torch.arange(0, 512//2).div(512))).unsqueeze(0)"
   ]
  },
  {
   "cell_type": "code",
   "execution_count": 102,
   "metadata": {},
   "outputs": [
    {
     "data": {
      "text/plain": [
       "torch.Size([1, 256])"
      ]
     },
     "execution_count": 102,
     "metadata": {},
     "output_type": "execute_result"
    }
   ],
   "source": [
    "dim.shape"
   ]
  },
  {
   "cell_type": "code",
   "execution_count": 103,
   "metadata": {},
   "outputs": [],
   "source": [
    "enc[:, 0::2] = torch.sin(pos / dim)\n",
    "enc[:, 1::2] = torch.cos(pos / dim)"
   ]
  },
  {
   "cell_type": "code",
   "execution_count": 104,
   "metadata": {},
   "outputs": [],
   "source": [
    "embedded_x += enc"
   ]
  },
  {
   "cell_type": "code",
   "execution_count": 105,
   "metadata": {},
   "outputs": [],
   "source": [
    "z = nn.Dropout(0.2)(embedded_x)"
   ]
  },
  {
   "cell_type": "code",
   "execution_count": 106,
   "metadata": {},
   "outputs": [
    {
     "data": {
      "text/plain": [
       "tensor([[[ 0.9771,  1.7267,  1.4614,  ...,  1.6464, -1.9489,  1.5406],\n",
       "         [ 0.8610,  1.0018,  1.9753,  ...,  0.0000,  2.0805,  0.6288],\n",
       "         [ 1.9066, -0.0000,  1.3198,  ...,  0.2428,  1.5625,  1.4423],\n",
       "         ...,\n",
       "         [ 0.9657, -0.0000, -0.2739,  ..., -1.2937, -0.8085, -2.7088],\n",
       "         [-0.2295, -2.2218, -1.4691,  ..., -1.2036, -2.0037, -2.6188],\n",
       "         [-0.7994, -1.1675, -2.0391,  ..., -0.1492, -2.5737, -1.5644]],\n",
       "\n",
       "        [[ 0.9771,  1.7267,  0.0000,  ...,  1.6464, -1.9489,  1.5406],\n",
       "         [ 0.5539,  0.0000,  0.0000,  ...,  1.7240,  1.8966,  2.0543],\n",
       "         [ 1.6536,  0.0000,  0.2120,  ..., -0.6755,  1.6656,  0.3980],\n",
       "         ...,\n",
       "         [ 0.9657, -2.3119, -0.2739,  ..., -1.2937, -0.0000, -2.7088],\n",
       "         [-0.0000, -2.2218, -0.0000,  ..., -0.0000, -2.0037, -2.6188],\n",
       "         [-0.7994, -1.1675, -2.0391,  ..., -0.1492, -2.5737, -1.5644]],\n",
       "\n",
       "        [[ 0.0000,  0.0000,  1.4614,  ...,  1.6464, -0.0000,  1.5406],\n",
       "         [ 2.2973,  1.0219,  0.2045,  ...,  0.5570,  2.5634,  0.0000],\n",
       "         [-0.0667, -0.9181,  0.0000,  ..., -0.2222,  3.0988, -0.6264],\n",
       "         ...,\n",
       "         [ 0.5464, -0.9247,  3.1147,  ..., -0.4822, -0.0399, -3.1287],\n",
       "         [-0.0000, -0.0000, -0.2674,  ..., -0.0000, -0.8859, -0.0000],\n",
       "         [-0.7994, -0.0000, -2.0391,  ..., -0.1492, -2.5737, -1.5644]],\n",
       "\n",
       "        [[ 0.9771,  1.7267,  1.4614,  ...,  0.0000, -1.9489,  1.5406],\n",
       "         [ 0.7505,  0.0000,  2.4755,  ...,  0.0000, -0.0745, -0.0000],\n",
       "         [ 1.1148, -0.9417,  0.0000,  ...,  0.8643,  0.0000, -1.0334],\n",
       "         ...,\n",
       "         [-0.2768, -0.0000,  0.3053,  ...,  0.4062, -0.0000, -1.1504],\n",
       "         [-1.5359,  0.0000,  0.1760,  ...,  0.0000, -1.8979, -0.6741],\n",
       "         [-0.0000, -1.1976, -0.8374,  ..., -0.0000, -1.4559, -1.6303]],\n",
       "\n",
       "        [[ 0.9771,  1.7267,  1.4614,  ...,  1.6464, -1.9489,  1.5406],\n",
       "         [ 2.3905, -2.2829,  2.8753,  ..., -0.4996,  1.1053,  0.0523],\n",
       "         [ 0.9900, -1.9622,  1.4020,  ...,  0.0000,  0.8998, -1.1823],\n",
       "         ...,\n",
       "         [ 0.9657, -2.3119, -0.2739,  ..., -1.2937, -0.8085, -2.7088],\n",
       "         [-0.0000, -2.2218, -1.4691,  ..., -0.0000, -2.0037, -2.6188],\n",
       "         [-0.0000, -1.1675, -2.0391,  ..., -0.1492, -2.5737, -1.5644]]],\n",
       "       grad_fn=<MulBackward0>)"
      ]
     },
     "execution_count": 106,
     "metadata": {},
     "output_type": "execute_result"
    }
   ],
   "source": [
    "z"
   ]
  },
  {
   "cell_type": "code",
   "execution_count": 107,
   "metadata": {
    "scrolled": false
   },
   "outputs": [
    {
     "name": "stdout",
     "output_type": "stream",
     "text": [
      "\n",
      "\n",
      "\n",
      "\n",
      "\n",
      "\n",
      "\n",
      "tensor(-0.0028, grad_fn=<MeanBackward0>)\n",
      "torch.Size([5, 12, 12])\n",
      "tensor(-1.1859e-08, grad_fn=<MeanBackward0>)\n",
      "\n",
      "\n",
      "\n",
      "\n",
      "\n",
      "\n",
      "\n",
      "tensor(-1.1859e-08, grad_fn=<MeanBackward0>)\n",
      "torch.Size([5, 12, 12])\n",
      "tensor(-2.9802e-09, grad_fn=<MeanBackward0>)\n",
      "\n",
      "\n",
      "\n",
      "\n",
      "\n",
      "\n",
      "\n",
      "tensor(-2.9802e-09, grad_fn=<MeanBackward0>)\n",
      "torch.Size([5, 12, 12])\n",
      "tensor(-7.9473e-09, grad_fn=<MeanBackward0>)\n",
      "\n",
      "\n",
      "\n",
      "\n",
      "\n",
      "\n",
      "\n",
      "tensor(-7.9473e-09, grad_fn=<MeanBackward0>)\n",
      "torch.Size([5, 12, 12])\n",
      "tensor(-9.1890e-09, grad_fn=<MeanBackward0>)\n",
      "\n",
      "\n",
      "\n",
      "\n",
      "\n",
      "\n",
      "\n",
      "tensor(-9.1890e-09, grad_fn=<MeanBackward0>)\n",
      "torch.Size([5, 12, 12])\n",
      "tensor(4.2220e-09, grad_fn=<MeanBackward0>)\n",
      "\n",
      "\n",
      "\n",
      "\n",
      "\n",
      "\n",
      "\n",
      "tensor(4.2220e-09, grad_fn=<MeanBackward0>)\n",
      "torch.Size([5, 12, 12])\n",
      "tensor(3.4769e-09, grad_fn=<MeanBackward0>)\n",
      "\n",
      "\n",
      "\n",
      "\n",
      "\n",
      "\n",
      "\n",
      "tensor(3.4769e-09, grad_fn=<MeanBackward0>)\n",
      "torch.Size([5, 12, 12])\n",
      "tensor(9.9341e-10, grad_fn=<MeanBackward0>)\n",
      "\n",
      "\n",
      "\n",
      "\n",
      "\n",
      "\n",
      "\n",
      "tensor(9.9341e-10, grad_fn=<MeanBackward0>)\n",
      "torch.Size([5, 12, 12])\n",
      "tensor(6.9539e-09, grad_fn=<MeanBackward0>)\n"
     ]
    },
    {
     "data": {
      "text/plain": [
       "(tensor([[[ 5.1711e-01,  2.6203e-02,  1.9705e+00,  ...,  1.3971e+00,\n",
       "           -1.9742e+00,  8.4321e-01],\n",
       "          [ 7.6448e-01, -4.3853e-01,  1.0880e+00,  ..., -6.9765e-03,\n",
       "            8.7684e-01, -1.8241e-02],\n",
       "          [ 1.5311e+00, -1.5038e-01,  9.8502e-01,  ...,  3.0358e-01,\n",
       "            2.5034e-01,  1.8279e+00],\n",
       "          ...,\n",
       "          [ 7.8941e-01, -9.3172e-02,  6.8404e-01,  ...,  2.3345e-01,\n",
       "           -7.9399e-01, -3.6145e-01],\n",
       "          [-2.1299e-01, -1.7069e+00,  2.1603e-02,  ...,  3.3092e-01,\n",
       "           -9.4661e-01, -2.4939e-02],\n",
       "          [-2.0125e-01, -1.0280e+00, -4.2630e-01,  ...,  1.4328e+00,\n",
       "           -9.7178e-01,  6.7541e-01]],\n",
       " \n",
       "         [[ 6.5046e-01,  8.5465e-02,  2.2483e-01,  ...,  5.7862e-01,\n",
       "           -1.5922e+00, -4.8244e-01],\n",
       "          [-2.8916e-01, -1.5411e+00,  4.4682e-01,  ...,  1.0592e+00,\n",
       "            5.5628e-01,  7.6843e-01],\n",
       "          [ 2.2324e+00, -9.1635e-01,  8.9765e-01,  ..., -1.6690e-01,\n",
       "            5.0763e-01, -7.0927e-02],\n",
       "          ...,\n",
       "          [ 2.0050e+00, -2.0271e+00,  1.6321e-01,  ...,  7.5786e-01,\n",
       "            7.4415e-03, -9.2557e-01],\n",
       "          [ 8.8540e-01, -1.5297e+00,  4.2961e-01,  ...,  1.5570e+00,\n",
       "           -5.4976e-01, -1.0537e+00],\n",
       "          [ 3.0678e-01, -1.2562e+00, -5.4906e-01,  ...,  6.6681e-01,\n",
       "           -3.7746e-01, -7.1574e-01]],\n",
       " \n",
       "         [[ 7.8831e-01, -7.8581e-02,  6.3839e-01,  ...,  1.7186e+00,\n",
       "           -9.5881e-01,  1.9258e-01],\n",
       "          [ 2.4761e+00,  3.2121e-01,  2.2745e-01,  ..., -6.5992e-01,\n",
       "            2.4815e-01, -1.1707e+00],\n",
       "          [ 1.2282e+00, -6.0584e-01,  2.2168e-01,  ...,  2.8953e-01,\n",
       "            1.8666e+00,  3.3853e-02],\n",
       "          ...,\n",
       "          [ 1.2120e+00, -1.6714e+00,  1.2716e+00,  ...,  1.2863e+00,\n",
       "           -4.4389e-01, -2.1249e+00],\n",
       "          [ 9.2021e-01, -2.9643e-01,  1.4231e-03,  ...,  1.2206e+00,\n",
       "           -1.0491e+00,  2.8775e-01],\n",
       "          [ 6.4717e-02, -2.9779e-01, -1.7897e+00,  ...,  9.1078e-01,\n",
       "           -1.2949e+00, -4.3109e-01]],\n",
       " \n",
       "         [[ 2.0459e-01,  1.0202e-01,  1.5703e+00,  ...,  2.8361e-01,\n",
       "           -1.8226e+00,  3.7623e-01],\n",
       "          [ 1.3098e+00, -1.4848e+00,  8.1478e-01,  ...,  1.0907e-02,\n",
       "           -8.2355e-01, -1.0324e+00],\n",
       "          [ 1.1245e+00, -1.6196e+00,  6.0087e-02,  ...,  3.1036e-01,\n",
       "            4.7734e-02, -5.6052e-01],\n",
       "          ...,\n",
       "          [ 3.0668e-01, -1.0576e+00,  1.1553e+00,  ..., -1.8255e-01,\n",
       "            2.0464e-01,  3.0871e-01],\n",
       "          [-3.5726e-01, -8.2966e-04,  3.3704e-01,  ...,  1.3568e+00,\n",
       "           -8.3649e-01,  3.5158e-01],\n",
       "          [ 9.7580e-01, -1.1521e+00, -1.4202e-01,  ...,  5.7675e-01,\n",
       "           -2.5142e-01, -5.4043e-01]],\n",
       " \n",
       "         [[ 1.2248e+00,  1.2888e-01,  8.2932e-01,  ...,  4.5917e-01,\n",
       "           -1.4549e+00,  7.7854e-01],\n",
       "          [ 1.0526e+00, -1.8306e+00,  1.8622e+00,  ..., -1.7177e+00,\n",
       "            4.1824e-01, -5.1560e-01],\n",
       "          [ 7.8066e-01, -1.3519e+00,  5.0743e-01,  ..., -5.2592e-01,\n",
       "            1.5407e-01,  4.7433e-01],\n",
       "          ...,\n",
       "          [ 1.4224e+00, -2.2757e+00, -6.4698e-01,  ..., -1.3987e-01,\n",
       "            3.4325e-01, -1.2371e-01],\n",
       "          [ 5.0090e-01, -1.7809e+00, -1.9276e-01,  ...,  1.6303e+00,\n",
       "           -3.9840e-01,  3.3677e-01],\n",
       "          [-1.9876e-02, -7.9298e-01, -1.3632e+00,  ...,  9.7598e-01,\n",
       "           -1.2324e-01,  4.3374e-01]]], grad_fn=<NativeLayerNormBackward>),\n",
       " tensor([[[False, False, False, False, False, False, False, False, False,  True,\n",
       "            True,  True],\n",
       "          [False, False, False, False, False, False, False, False, False,  True,\n",
       "            True,  True],\n",
       "          [False, False, False, False, False, False, False, False, False,  True,\n",
       "            True,  True],\n",
       "          [False, False, False, False, False, False, False, False, False,  True,\n",
       "            True,  True],\n",
       "          [False, False, False, False, False, False, False, False, False,  True,\n",
       "            True,  True],\n",
       "          [False, False, False, False, False, False, False, False, False,  True,\n",
       "            True,  True],\n",
       "          [False, False, False, False, False, False, False, False, False,  True,\n",
       "            True,  True],\n",
       "          [False, False, False, False, False, False, False, False, False,  True,\n",
       "            True,  True],\n",
       "          [False, False, False, False, False, False, False, False, False,  True,\n",
       "            True,  True],\n",
       "          [False, False, False, False, False, False, False, False, False,  True,\n",
       "            True,  True],\n",
       "          [False, False, False, False, False, False, False, False, False,  True,\n",
       "            True,  True],\n",
       "          [False, False, False, False, False, False, False, False, False,  True,\n",
       "            True,  True]],\n",
       " \n",
       "         [[False, False, False, False, False, False, False, False,  True,  True,\n",
       "            True,  True],\n",
       "          [False, False, False, False, False, False, False, False,  True,  True,\n",
       "            True,  True],\n",
       "          [False, False, False, False, False, False, False, False,  True,  True,\n",
       "            True,  True],\n",
       "          [False, False, False, False, False, False, False, False,  True,  True,\n",
       "            True,  True],\n",
       "          [False, False, False, False, False, False, False, False,  True,  True,\n",
       "            True,  True],\n",
       "          [False, False, False, False, False, False, False, False,  True,  True,\n",
       "            True,  True],\n",
       "          [False, False, False, False, False, False, False, False,  True,  True,\n",
       "            True,  True],\n",
       "          [False, False, False, False, False, False, False, False,  True,  True,\n",
       "            True,  True],\n",
       "          [False, False, False, False, False, False, False, False,  True,  True,\n",
       "            True,  True],\n",
       "          [False, False, False, False, False, False, False, False,  True,  True,\n",
       "            True,  True],\n",
       "          [False, False, False, False, False, False, False, False,  True,  True,\n",
       "            True,  True],\n",
       "          [False, False, False, False, False, False, False, False,  True,  True,\n",
       "            True,  True]],\n",
       " \n",
       "         [[False, False, False, False, False, False, False, False, False, False,\n",
       "           False,  True],\n",
       "          [False, False, False, False, False, False, False, False, False, False,\n",
       "           False,  True],\n",
       "          [False, False, False, False, False, False, False, False, False, False,\n",
       "           False,  True],\n",
       "          [False, False, False, False, False, False, False, False, False, False,\n",
       "           False,  True],\n",
       "          [False, False, False, False, False, False, False, False, False, False,\n",
       "           False,  True],\n",
       "          [False, False, False, False, False, False, False, False, False, False,\n",
       "           False,  True],\n",
       "          [False, False, False, False, False, False, False, False, False, False,\n",
       "           False,  True],\n",
       "          [False, False, False, False, False, False, False, False, False, False,\n",
       "           False,  True],\n",
       "          [False, False, False, False, False, False, False, False, False, False,\n",
       "           False,  True],\n",
       "          [False, False, False, False, False, False, False, False, False, False,\n",
       "           False,  True],\n",
       "          [False, False, False, False, False, False, False, False, False, False,\n",
       "           False,  True],\n",
       "          [False, False, False, False, False, False, False, False, False, False,\n",
       "           False,  True]],\n",
       " \n",
       "         [[False, False, False, False, False, False, False, False, False, False,\n",
       "           False, False],\n",
       "          [False, False, False, False, False, False, False, False, False, False,\n",
       "           False, False],\n",
       "          [False, False, False, False, False, False, False, False, False, False,\n",
       "           False, False],\n",
       "          [False, False, False, False, False, False, False, False, False, False,\n",
       "           False, False],\n",
       "          [False, False, False, False, False, False, False, False, False, False,\n",
       "           False, False],\n",
       "          [False, False, False, False, False, False, False, False, False, False,\n",
       "           False, False],\n",
       "          [False, False, False, False, False, False, False, False, False, False,\n",
       "           False, False],\n",
       "          [False, False, False, False, False, False, False, False, False, False,\n",
       "           False, False],\n",
       "          [False, False, False, False, False, False, False, False, False, False,\n",
       "           False, False],\n",
       "          [False, False, False, False, False, False, False, False, False, False,\n",
       "           False, False],\n",
       "          [False, False, False, False, False, False, False, False, False, False,\n",
       "           False, False],\n",
       "          [False, False, False, False, False, False, False, False, False, False,\n",
       "           False, False]],\n",
       " \n",
       "         [[False, False, False, False, False, False, False,  True,  True,  True,\n",
       "            True,  True],\n",
       "          [False, False, False, False, False, False, False,  True,  True,  True,\n",
       "            True,  True],\n",
       "          [False, False, False, False, False, False, False,  True,  True,  True,\n",
       "            True,  True],\n",
       "          [False, False, False, False, False, False, False,  True,  True,  True,\n",
       "            True,  True],\n",
       "          [False, False, False, False, False, False, False,  True,  True,  True,\n",
       "            True,  True],\n",
       "          [False, False, False, False, False, False, False,  True,  True,  True,\n",
       "            True,  True],\n",
       "          [False, False, False, False, False, False, False,  True,  True,  True,\n",
       "            True,  True],\n",
       "          [False, False, False, False, False, False, False,  True,  True,  True,\n",
       "            True,  True],\n",
       "          [False, False, False, False, False, False, False,  True,  True,  True,\n",
       "            True,  True],\n",
       "          [False, False, False, False, False, False, False,  True,  True,  True,\n",
       "            True,  True],\n",
       "          [False, False, False, False, False, False, False,  True,  True,  True,\n",
       "            True,  True],\n",
       "          [False, False, False, False, False, False, False,  True,  True,  True,\n",
       "            True,  True]]]))"
      ]
     },
     "execution_count": 107,
     "metadata": {},
     "output_type": "execute_result"
    }
   ],
   "source": [
    "encoder(z, mask_enc)"
   ]
  },
  {
   "cell_type": "code",
   "execution_count": null,
   "metadata": {},
   "outputs": [],
   "source": []
  },
  {
   "cell_type": "code",
   "execution_count": null,
   "metadata": {},
   "outputs": [],
   "source": []
  },
  {
   "cell_type": "code",
   "execution_count": null,
   "metadata": {},
   "outputs": [],
   "source": []
  },
  {
   "cell_type": "code",
   "execution_count": null,
   "metadata": {},
   "outputs": [],
   "source": []
  },
  {
   "cell_type": "code",
   "execution_count": null,
   "metadata": {},
   "outputs": [],
   "source": []
  }
 ],
 "metadata": {
  "kernelspec": {
   "display_name": "basic",
   "language": "python",
   "name": "basic"
  },
  "language_info": {
   "codemirror_mode": {
    "name": "ipython",
    "version": 3
   },
   "file_extension": ".py",
   "mimetype": "text/x-python",
   "name": "python",
   "nbconvert_exporter": "python",
   "pygments_lexer": "ipython3",
   "version": "3.6.9"
  }
 },
 "nbformat": 4,
 "nbformat_minor": 2
}
